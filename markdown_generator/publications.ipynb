{
 "cells": [
  {
   "cell_type": "markdown",
   "metadata": {
    "deletable": true,
    "editable": true
   },
   "source": [
    "# Publications markdown generator for academicpages\n",
    "\n",
    "Takes a TSV of publications with metadata and converts them for use with [academicpages.github.io](academicpages.github.io). This is an interactive Jupyter notebook ([see more info here](http://jupyter-notebook-beginner-guide.readthedocs.io/en/latest/what_is_jupyter.html)). The core python code is also in `publications.py`. Run either from the `markdown_generator` folder after replacing `publications.tsv` with one containing your data.\n",
    "\n",
    "TODO: Make this work with BibTex and other databases of citations, rather than Stuart's non-standard TSV format and citation style.\n"
   ]
  },
  {
   "cell_type": "markdown",
   "metadata": {},
   "source": [
    "## Data format\n",
    "\n",
    "The TSV needs to have the following columns: pub_date, title, venue, excerpt, citation, site_url, and paper_url, with a header at the top. \n",
    "\n",
    "- `excerpt` and `paper_url` can be blank, but the others must have values. \n",
    "- `pub_date` must be formatted as YYYY-MM-DD.\n",
    "- `url_slug` will be the descriptive part of the .md file and the permalink URL for the page about the paper. The .md file will be `YYYY-MM-DD-[url_slug].md` and the permalink will be `https://[yourdomain]/publications/YYYY-MM-DD-[url_slug]`\n",
    "\n",
    "This is how the raw file looks (it doesn't look pretty, use a spreadsheet or other program to edit and create)."
   ]
  },
  {
   "cell_type": "code",
   "execution_count": 1,
   "metadata": {
    "collapsed": false
   },
   "outputs": [
    {
     "name": "stdout",
     "output_type": "stream",
     "text": [
      "pub_date\ttitle\tvenue\texcerpt\tcitation\turl_slug\tpaper_url\n",
      "2009-10-01\tPaper Title Number 1\tJournal 1\tThis paper is about the number 1. The number 2 is left for future work.\tYour Name, You. (2009). \"Paper Title Number 1.\" <i>Journal 1</i>. 1(1).\tpaper-title-number-1\thttp://academicpages.github.io/files/paper1.pdf\n",
      "2010-10-01\tPaper Title Number 2\tJournal 1\tThis paper is about the number 2. The number 3 is left for future work.\tYour Name, You. (2010). \"Paper Title Number 2.\" <i>Journal 1</i>. 1(2).\tpaper-title-number-2\thttp://academicpages.github.io/files/paper2.pdf\n",
      "2015-10-01\tPaper Title Number 3\tJournal 1\tThis paper is about the number 3. The number 4 is left for future work.\tYour Name, You. (2015). \"Paper Title Number 3.\" <i>Journal 1</i>. 1(3).\tpaper-title-number-3\thttp://academicpages.github.io/files/paper3.pdf"
     ]
    }
   ],
   "source": [
    "!cat publications.tsv"
   ]
  },
  {
   "cell_type": "markdown",
   "metadata": {},
   "source": [
    "## Import pandas\n",
    "\n",
    "We are using the very handy pandas library for dataframes."
   ]
  },
  {
   "cell_type": "code",
   "execution_count": 1,
   "metadata": {
    "collapsed": true,
    "deletable": true,
    "editable": true
   },
   "outputs": [],
   "source": [
    "import pandas as pd"
   ]
  },
  {
   "cell_type": "markdown",
   "metadata": {},
   "source": [
    "## Import TSV\n",
    "\n",
    "Pandas makes this easy with the read_csv function. We are using a TSV, so we specify the separator as a tab, or `\\t`.\n",
    "\n",
    "I found it important to put this data in a tab-separated values format, because there are a lot of commas in this kind of data and comma-separated values can get messed up. However, you can modify the import statement, as pandas also has read_excel(), read_json(), and others."
   ]
  },
  {
   "cell_type": "code",
   "execution_count": 5,
   "metadata": {
    "collapsed": false,
    "deletable": true,
    "editable": true
   },
   "outputs": [
    {
     "data": {
      "text/html": [
       "<div>\n",
       "<style scoped>\n",
       "    .dataframe tbody tr th:only-of-type {\n",
       "        vertical-align: middle;\n",
       "    }\n",
       "\n",
       "    .dataframe tbody tr th {\n",
       "        vertical-align: top;\n",
       "    }\n",
       "\n",
       "    .dataframe thead th {\n",
       "        text-align: right;\n",
       "    }\n",
       "</style>\n",
       "<table border=\"1\" class=\"dataframe\">\n",
       "  <thead>\n",
       "    <tr style=\"text-align: right;\">\n",
       "      <th></th>\n",
       "      <th>pub_date</th>\n",
       "      <th>title</th>\n",
       "      <th>venue</th>\n",
       "      <th>excerpt</th>\n",
       "      <th>citation</th>\n",
       "      <th>url_slug</th>\n",
       "      <th>paper_url</th>\n",
       "    </tr>\n",
       "  </thead>\n",
       "  <tbody>\n",
       "    <tr>\n",
       "      <th>0</th>\n",
       "      <td>2014-11-02</td>\n",
       "      <td>On adaptive occupant-learning window blind and...</td>\n",
       "      <td>Building Research &amp; Information</td>\n",
       "      <td>Occupants have a significant impact upon build...</td>\n",
       "      <td>Gunay, H. B., O'Brien, W., Beausoleil-Morrison...</td>\n",
       "      <td>2014-11-adaptive-occ-learning-window</td>\n",
       "      <td>https://www.tandfonline.com/doi/abs/10.1080/09...</td>\n",
       "    </tr>\n",
       "    <tr>\n",
       "      <th>1</th>\n",
       "      <td>2014-05-01</td>\n",
       "      <td>Recursive thermal building model training usin...</td>\n",
       "      <td>Ottawa, ON: eSim.</td>\n",
       "      <td>Simplified building models have gained in popu...</td>\n",
       "      <td>Huchuk, B., Cruickshank, C. A., O’Brien, W., &amp;...</td>\n",
       "      <td>2014-05-recursive-thermal-model</td>\n",
       "      <td>https://pdfs.semanticscholar.org/de1c/0259cc1a...</td>\n",
       "    </tr>\n",
       "    <tr>\n",
       "      <th>2</th>\n",
       "      <td>2014-05-01</td>\n",
       "      <td>The effect of input uncertainty in model-based...</td>\n",
       "      <td>Ottawa, ON: eSim.</td>\n",
       "      <td>The adoption of model-based predictive control...</td>\n",
       "      <td>Gunay, H., O’Brien, W., Beausoleil-Morrison, I...</td>\n",
       "      <td>2014-05-iinput-uncertainity-mpc</td>\n",
       "      <td>http://www.ibpsa.org/proceedings/eSimPapers/20...</td>\n",
       "    </tr>\n",
       "    <tr>\n",
       "      <th>3</th>\n",
       "      <td>2016-05-18</td>\n",
       "      <td>Model-based predictive control of office windo...</td>\n",
       "      <td>Building Research &amp; Information</td>\n",
       "      <td>In the automation of interior window shading d...</td>\n",
       "      <td>Huchuk, B., Gunay, H. B., O'Brien, W., &amp; Cruic...</td>\n",
       "      <td>2016-05-model-based-predictive</td>\n",
       "      <td>https://www.tandfonline.com/doi/abs/10.1080/09...</td>\n",
       "    </tr>\n",
       "    <tr>\n",
       "      <th>4</th>\n",
       "      <td>2013-04-07</td>\n",
       "      <td>Preliminary results of model predictive contro...</td>\n",
       "      <td>Proceedings of the Symposium on Simulation for...</td>\n",
       "      <td>Shades in buildings are widely installed and a...</td>\n",
       "      <td>Huchuk, B., O'Brien, W., &amp; Cruickshank, C. A. ...</td>\n",
       "      <td>2013-04-shades-mpc</td>\n",
       "      <td>https://dl.acm.org/citation.cfm?id=2500033</td>\n",
       "    </tr>\n",
       "    <tr>\n",
       "      <th>5</th>\n",
       "      <td>2014-12-01</td>\n",
       "      <td>Shortest-prediction-horizon model-based predic...</td>\n",
       "      <td>Building and Environment</td>\n",
       "      <td>When employing model-based predictive control ...</td>\n",
       "      <td>Gunay, H. B., Bursill, J., Huchuk, B., O'Brien...</td>\n",
       "      <td>2014-12-shortest-prediction-horizon</td>\n",
       "      <td>https://www.sciencedirect.com/science/article/...</td>\n",
       "    </tr>\n",
       "    <tr>\n",
       "      <th>6</th>\n",
       "      <td>2014-07-14</td>\n",
       "      <td>Model-based predictive control of window shades</td>\n",
       "      <td>Thesis</td>\n",
       "      <td>As architecture and engineering push the bound...</td>\n",
       "      <td>Huchuk, B. J. (2014). Model-based predictive c...</td>\n",
       "      <td>2014-07-mpc-shades</td>\n",
       "      <td>https://curve.carleton.ca/system/files/etd/13f...</td>\n",
       "    </tr>\n",
       "    <tr>\n",
       "      <th>7</th>\n",
       "      <td>2018-01-01</td>\n",
       "      <td>A Preliminary Study on Text Mining Operator Lo...</td>\n",
       "      <td>ASHRAE Transactions</td>\n",
       "      <td>In this study, the framework for a transferabl...</td>\n",
       "      <td>Shi, Z., Weiming Shen PhD, P., &amp; Huchuk, B. (2...</td>\n",
       "      <td>2018-text-mining-log-book</td>\n",
       "      <td>https://search.proquest.com/openview/ff8f7cebc...</td>\n",
       "    </tr>\n",
       "    <tr>\n",
       "      <th>8</th>\n",
       "      <td>2018-07-01</td>\n",
       "      <td>A longitudinal study of thermostat behaviors b...</td>\n",
       "      <td>Building and Environment</td>\n",
       "      <td>While previous studies have attempted to under...</td>\n",
       "      <td>Huchuk, B., O'Brien, W., &amp; Sanner, S. (2018). ...</td>\n",
       "      <td>2018-07-longitudinal-tstat-behavior</td>\n",
       "      <td>https://www.sciencedirect.com/science/article/...</td>\n",
       "    </tr>\n",
       "    <tr>\n",
       "      <th>9</th>\n",
       "      <td>2018-04-17</td>\n",
       "      <td>Energy and comfort performance benefits of ear...</td>\n",
       "      <td>Building Services Engineering Research and Tec...</td>\n",
       "      <td>This paper presents a building performance sim...</td>\n",
       "      <td>Gunay, B., Shen, W., Huchuk, B., Yang, C., Buc...</td>\n",
       "      <td>2018-04-energy-comfort-building-fault</td>\n",
       "      <td>https://journals.sagepub.com/doi/abs/10.1177/0...</td>\n",
       "    </tr>\n",
       "  </tbody>\n",
       "</table>\n",
       "</div>"
      ],
      "text/plain": [
       "     pub_date                                              title  \\\n",
       "0  2014-11-02  On adaptive occupant-learning window blind and...   \n",
       "1  2014-05-01  Recursive thermal building model training usin...   \n",
       "2  2014-05-01  The effect of input uncertainty in model-based...   \n",
       "3  2016-05-18  Model-based predictive control of office windo...   \n",
       "4  2013-04-07  Preliminary results of model predictive contro...   \n",
       "5  2014-12-01  Shortest-prediction-horizon model-based predic...   \n",
       "6  2014-07-14    Model-based predictive control of window shades   \n",
       "7  2018-01-01  A Preliminary Study on Text Mining Operator Lo...   \n",
       "8  2018-07-01  A longitudinal study of thermostat behaviors b...   \n",
       "9  2018-04-17  Energy and comfort performance benefits of ear...   \n",
       "\n",
       "                                               venue  \\\n",
       "0                    Building Research & Information   \n",
       "1                                  Ottawa, ON: eSim.   \n",
       "2                                  Ottawa, ON: eSim.   \n",
       "3                    Building Research & Information   \n",
       "4  Proceedings of the Symposium on Simulation for...   \n",
       "5                           Building and Environment   \n",
       "6                                             Thesis   \n",
       "7                                ASHRAE Transactions   \n",
       "8                           Building and Environment   \n",
       "9  Building Services Engineering Research and Tec...   \n",
       "\n",
       "                                             excerpt  \\\n",
       "0  Occupants have a significant impact upon build...   \n",
       "1  Simplified building models have gained in popu...   \n",
       "2  The adoption of model-based predictive control...   \n",
       "3  In the automation of interior window shading d...   \n",
       "4  Shades in buildings are widely installed and a...   \n",
       "5  When employing model-based predictive control ...   \n",
       "6  As architecture and engineering push the bound...   \n",
       "7  In this study, the framework for a transferabl...   \n",
       "8  While previous studies have attempted to under...   \n",
       "9  This paper presents a building performance sim...   \n",
       "\n",
       "                                            citation  \\\n",
       "0  Gunay, H. B., O'Brien, W., Beausoleil-Morrison...   \n",
       "1  Huchuk, B., Cruickshank, C. A., O’Brien, W., &...   \n",
       "2  Gunay, H., O’Brien, W., Beausoleil-Morrison, I...   \n",
       "3  Huchuk, B., Gunay, H. B., O'Brien, W., & Cruic...   \n",
       "4  Huchuk, B., O'Brien, W., & Cruickshank, C. A. ...   \n",
       "5  Gunay, H. B., Bursill, J., Huchuk, B., O'Brien...   \n",
       "6  Huchuk, B. J. (2014). Model-based predictive c...   \n",
       "7  Shi, Z., Weiming Shen PhD, P., & Huchuk, B. (2...   \n",
       "8  Huchuk, B., O'Brien, W., & Sanner, S. (2018). ...   \n",
       "9  Gunay, B., Shen, W., Huchuk, B., Yang, C., Buc...   \n",
       "\n",
       "                                url_slug  \\\n",
       "0   2014-11-adaptive-occ-learning-window   \n",
       "1        2014-05-recursive-thermal-model   \n",
       "2        2014-05-iinput-uncertainity-mpc   \n",
       "3         2016-05-model-based-predictive   \n",
       "4                     2013-04-shades-mpc   \n",
       "5    2014-12-shortest-prediction-horizon   \n",
       "6                     2014-07-mpc-shades   \n",
       "7              2018-text-mining-log-book   \n",
       "8    2018-07-longitudinal-tstat-behavior   \n",
       "9  2018-04-energy-comfort-building-fault   \n",
       "\n",
       "                                           paper_url  \n",
       "0  https://www.tandfonline.com/doi/abs/10.1080/09...  \n",
       "1  https://pdfs.semanticscholar.org/de1c/0259cc1a...  \n",
       "2  http://www.ibpsa.org/proceedings/eSimPapers/20...  \n",
       "3  https://www.tandfonline.com/doi/abs/10.1080/09...  \n",
       "4         https://dl.acm.org/citation.cfm?id=2500033  \n",
       "5  https://www.sciencedirect.com/science/article/...  \n",
       "6  https://curve.carleton.ca/system/files/etd/13f...  \n",
       "7  https://search.proquest.com/openview/ff8f7cebc...  \n",
       "8  https://www.sciencedirect.com/science/article/...  \n",
       "9  https://journals.sagepub.com/doi/abs/10.1177/0...  "
      ]
     },
     "execution_count": 5,
     "metadata": {},
     "output_type": "execute_result"
    }
   ],
   "source": [
    "publications = pd.read_csv(\"my_pubs.csv\", header=0)\n",
    "publications.head(10)\n"
   ]
  },
  {
   "cell_type": "code",
   "execution_count": 6,
   "metadata": {},
   "outputs": [
    {
     "data": {
      "text/plain": [
       "'2014-07-14'"
      ]
     },
     "execution_count": 6,
     "metadata": {},
     "output_type": "execute_result"
    }
   ],
   "source": [
    "publications.loc[6,'pub_date']"
   ]
  },
  {
   "cell_type": "markdown",
   "metadata": {},
   "source": [
    "## Escape special characters\n",
    "\n",
    "YAML is very picky about how it takes a valid string, so we are replacing single and double quotes (and ampersands) with their HTML encoded equivilents. This makes them look not so readable in raw format, but they are parsed and rendered nicely."
   ]
  },
  {
   "cell_type": "code",
   "execution_count": 7,
   "metadata": {
    "collapsed": true,
    "deletable": true,
    "editable": true
   },
   "outputs": [],
   "source": [
    "html_escape_table = {\n",
    "    \"&\": \"&amp;\",\n",
    "    '\"': \"&quot;\",\n",
    "    \"'\": \"&apos;\"\n",
    "    }\n",
    "\n",
    "def html_escape(text):\n",
    "    \"\"\"Produce entities within text.\"\"\"\n",
    "    return \"\".join(html_escape_table.get(c,c) for c in text)"
   ]
  },
  {
   "cell_type": "markdown",
   "metadata": {},
   "source": [
    "## Creating the markdown files\n",
    "\n",
    "This is where the heavy lifting is done. This loops through all the rows in the TSV dataframe, then starts to concatentate a big string (```md```) that contains the markdown for each type. It does the YAML metadata first, then does the description for the individual page."
   ]
  },
  {
   "cell_type": "code",
   "execution_count": 8,
   "metadata": {
    "collapsed": false,
    "deletable": true,
    "editable": true
   },
   "outputs": [],
   "source": [
    "import os\n",
    "for row, item in publications.iterrows():\n",
    "    \n",
    "    md_filename = str(item.pub_date) + \"-\" + item.url_slug + \".md\"\n",
    "    html_filename = str(item.pub_date) + \"-\" + item.url_slug\n",
    "    year = item.pub_date[:4]\n",
    "    \n",
    "    ## YAML variables\n",
    "    \n",
    "    md = \"---\\ntitle: \\\"\"   + item.title + '\"\\n'\n",
    "    \n",
    "    md += \"\"\"collection: publications\"\"\"\n",
    "    \n",
    "    md += \"\"\"\\npermalink: /publication/\"\"\" + html_filename\n",
    "    \n",
    "    if len(str(item.excerpt)) > 5:\n",
    "        md += \"\\nexcerpt: '\" + html_escape(item.excerpt) + \"'\"\n",
    "    \n",
    "    md += \"\\ndate: \" + str(item.pub_date) \n",
    "    \n",
    "    md += \"\\nvenue: '\" + html_escape(item.venue) + \"'\"\n",
    "    \n",
    "    if len(str(item.paper_url)) > 5:\n",
    "        md += \"\\npaperurl: '\" + item.paper_url + \"'\"\n",
    "    \n",
    "    md += \"\\ncitation: '\" + html_escape(item.citation) + \"'\"\n",
    "    \n",
    "    md += \"\\n---\"\n",
    "    \n",
    "    ## Markdown description for individual page\n",
    "        \n",
    "    if len(str(item.excerpt)) > 5:\n",
    "        md += \"\\n\" + html_escape(item.excerpt) + \"\\n\"\n",
    "    \n",
    "    if len(str(item.paper_url)) > 5:\n",
    "        md += \"\\n[Download paper here](\" + item.paper_url + \")\\n\" \n",
    "        \n",
    "    md += \"\\nRecommended citation: \" + item.citation\n",
    "    \n",
    "    md_filename = os.path.basename(md_filename)\n",
    "       \n",
    "    with open(\"../_publications/\" + md_filename, 'w') as f:\n",
    "        f.write(md)"
   ]
  },
  {
   "cell_type": "markdown",
   "metadata": {},
   "source": [
    "These files are in the publications directory, one directory below where we're working from."
   ]
  },
  {
   "cell_type": "code",
   "execution_count": 9,
   "metadata": {
    "collapsed": false,
    "deletable": true,
    "editable": true
   },
   "outputs": [
    {
     "name": "stdout",
     "output_type": "stream",
     "text": [
      "14-Jul-2014-07-mpc-shades.md\n",
      "2013-04-07-2013-04-shades-mpc.md\n",
      "2014-05-01-2014-05-iinput-uncertainity-mpc.md\n",
      "2014-05-01-2014-05-recursive-thermal-model.md\n",
      "2014-07-14-2014-07-mpc-shades.md\n",
      "2014-11-02-2014-11-adaptive-occ-learning-window.md\n",
      "2014-12-01-2014-12-shortest-prediction-horizon.md\n",
      "2016-05-18-2016-05-model-based-predictive.md\n",
      "2017-07-01-mpc-shades.md\n",
      "2018-01-01-2018-text-mining-log-book.md\n",
      "2018-04-17-2018-04-energy-comfort-building-fault.md\n",
      "2018-07-01-2018-07-longitudinal-tstat-behavior.md\n",
      "2019-05-01-comparison-ml.md\n"
     ]
    }
   ],
   "source": [
    "!ls ../_publications/"
   ]
  },
  {
   "cell_type": "code",
   "execution_count": 7,
   "metadata": {
    "collapsed": false,
    "deletable": true,
    "editable": true
   },
   "outputs": [
    {
     "name": "stdout",
     "output_type": "stream",
     "text": [
      "---\n",
      "title: \"Paper Title Number 1\"\n",
      "collection: publications\n",
      "permalink: /publication/2009-10-01-paper-title-number-1\n",
      "excerpt: 'This paper is about the number 1. The number 2 is left for future work.'\n",
      "date: 2009-10-01\n",
      "venue: 'Journal 1'\n",
      "paperurl: 'http://academicpages.github.io/files/paper1.pdf'\n",
      "citation: 'Your Name, You. (2009). &quot;Paper Title Number 1.&quot; <i>Journal 1</i>. 1(1).'\n",
      "---\n",
      "This paper is about the number 1. The number 2 is left for future work.\n",
      "\n",
      "[Download paper here](http://academicpages.github.io/files/paper1.pdf)\n",
      "\n",
      "Recommended citation: Your Name, You. (2009). \"Paper Title Number 1.\" <i>Journal 1</i>. 1(1)."
     ]
    }
   ],
   "source": [
    "!cat ../_publications/2009-10-01-paper-title-number-1.md"
   ]
  },
  {
   "cell_type": "code",
   "execution_count": null,
   "metadata": {
    "collapsed": true,
    "deletable": true,
    "editable": true
   },
   "outputs": [],
   "source": []
  }
 ],
 "metadata": {
  "kernelspec": {
   "display_name": "Python 3",
   "language": "python",
   "name": "python3"
  },
  "language_info": {
   "codemirror_mode": {
    "name": "ipython",
    "version": 3
   },
   "file_extension": ".py",
   "mimetype": "text/x-python",
   "name": "python",
   "nbconvert_exporter": "python",
   "pygments_lexer": "ipython3",
   "version": "3.6.6"
  }
 },
 "nbformat": 4,
 "nbformat_minor": 2
}
